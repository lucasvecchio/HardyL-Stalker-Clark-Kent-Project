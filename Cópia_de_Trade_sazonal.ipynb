{
  "nbformat": 4,
  "nbformat_minor": 0,
  "metadata": {
    "colab": {
      "name": "Cópia de Trade sazonal.ipynb",
      "provenance": [],
      "authorship_tag": "ABX9TyPV1d2JtxZOpmN5RUjmw/7D",
      "include_colab_link": true
    },
    "kernelspec": {
      "name": "python3",
      "display_name": "Python 3"
    },
    "language_info": {
      "name": "python"
    }
  },
  "cells": [
    {
      "cell_type": "markdown",
      "metadata": {
        "id": "view-in-github",
        "colab_type": "text"
      },
      "source": [
        "<a href=\"https://colab.research.google.com/github/lucasvecchio/HardyL-Stalker-Clark-Kent-Project/blob/master/C%C3%B3pia_de_Trade_sazonal.ipynb\" target=\"_parent\"><img src=\"https://colab.research.google.com/assets/colab-badge.svg\" alt=\"Open In Colab\"/></a>"
      ]
    },
    {
      "cell_type": "code",
      "metadata": {
        "colab": {
          "base_uri": "https://localhost:8080/"
        },
        "id": "KUsEPNni6xiI",
        "outputId": "98dddf46-79e4-42ea-ba2c-894a73601448"
      },
      "source": [
        "pip install quantstats"
      ],
      "execution_count": null,
      "outputs": [
        {
          "output_type": "stream",
          "name": "stdout",
          "text": [
            "Collecting quantstats\n",
            "  Downloading QuantStats-0.0.43.tar.gz (35 kB)\n",
            "Requirement already satisfied: pandas>=0.24.0 in /usr/local/lib/python3.7/dist-packages (from quantstats) (1.1.5)\n",
            "Requirement already satisfied: numpy>=1.16.5 in /usr/local/lib/python3.7/dist-packages (from quantstats) (1.19.5)\n",
            "Requirement already satisfied: seaborn>=0.9.0 in /usr/local/lib/python3.7/dist-packages (from quantstats) (0.11.2)\n",
            "Requirement already satisfied: matplotlib>=3.0.0 in /usr/local/lib/python3.7/dist-packages (from quantstats) (3.2.2)\n",
            "Requirement already satisfied: scipy>=1.2.0 in /usr/local/lib/python3.7/dist-packages (from quantstats) (1.4.1)\n",
            "Requirement already satisfied: tabulate>=0.8.0 in /usr/local/lib/python3.7/dist-packages (from quantstats) (0.8.9)\n",
            "Collecting yfinance>=0.1.63\n",
            "  Downloading yfinance-0.1.64.tar.gz (26 kB)\n",
            "Requirement already satisfied: kiwisolver>=1.0.1 in /usr/local/lib/python3.7/dist-packages (from matplotlib>=3.0.0->quantstats) (1.3.2)\n",
            "Requirement already satisfied: cycler>=0.10 in /usr/local/lib/python3.7/dist-packages (from matplotlib>=3.0.0->quantstats) (0.10.0)\n",
            "Requirement already satisfied: python-dateutil>=2.1 in /usr/local/lib/python3.7/dist-packages (from matplotlib>=3.0.0->quantstats) (2.8.2)\n",
            "Requirement already satisfied: pyparsing!=2.0.4,!=2.1.2,!=2.1.6,>=2.0.1 in /usr/local/lib/python3.7/dist-packages (from matplotlib>=3.0.0->quantstats) (2.4.7)\n",
            "Requirement already satisfied: six in /usr/local/lib/python3.7/dist-packages (from cycler>=0.10->matplotlib>=3.0.0->quantstats) (1.15.0)\n",
            "Requirement already satisfied: pytz>=2017.2 in /usr/local/lib/python3.7/dist-packages (from pandas>=0.24.0->quantstats) (2018.9)\n",
            "Requirement already satisfied: requests>=2.20 in /usr/local/lib/python3.7/dist-packages (from yfinance>=0.1.63->quantstats) (2.23.0)\n",
            "Requirement already satisfied: multitasking>=0.0.7 in /usr/local/lib/python3.7/dist-packages (from yfinance>=0.1.63->quantstats) (0.0.9)\n",
            "Collecting lxml>=4.5.1\n",
            "  Downloading lxml-4.6.3-cp37-cp37m-manylinux2014_x86_64.whl (6.3 MB)\n",
            "\u001b[K     |████████████████████████████████| 6.3 MB 7.2 MB/s \n",
            "\u001b[?25hRequirement already satisfied: idna<3,>=2.5 in /usr/local/lib/python3.7/dist-packages (from requests>=2.20->yfinance>=0.1.63->quantstats) (2.10)\n",
            "Requirement already satisfied: urllib3!=1.25.0,!=1.25.1,<1.26,>=1.21.1 in /usr/local/lib/python3.7/dist-packages (from requests>=2.20->yfinance>=0.1.63->quantstats) (1.24.3)\n",
            "Requirement already satisfied: chardet<4,>=3.0.2 in /usr/local/lib/python3.7/dist-packages (from requests>=2.20->yfinance>=0.1.63->quantstats) (3.0.4)\n",
            "Requirement already satisfied: certifi>=2017.4.17 in /usr/local/lib/python3.7/dist-packages (from requests>=2.20->yfinance>=0.1.63->quantstats) (2021.5.30)\n",
            "Building wheels for collected packages: quantstats, yfinance\n",
            "  Building wheel for quantstats (setup.py) ... \u001b[?25l\u001b[?25hdone\n",
            "  Created wheel for quantstats: filename=QuantStats-0.0.43-py2.py3-none-any.whl size=40128 sha256=d5d98c00e272fe56e811dfec4297915f4354a866b0e5585ecfa10d4bab73262d\n",
            "  Stored in directory: /root/.cache/pip/wheels/c1/fd/d1/02aacfa0b120f1645f69e2115d60d17ea13e0577f6223c98f8\n",
            "  Building wheel for yfinance (setup.py) ... \u001b[?25l\u001b[?25hdone\n",
            "  Created wheel for yfinance: filename=yfinance-0.1.64-py2.py3-none-any.whl size=24109 sha256=55a3880becd4a82d4dc945fa3998cdde9aa63ea28e51332925a08f5864cff9aa\n",
            "  Stored in directory: /root/.cache/pip/wheels/86/fe/9b/a4d3d78796b699e37065e5b6c27b75cff448ddb8b24943c288\n",
            "Successfully built quantstats yfinance\n",
            "Installing collected packages: lxml, yfinance, quantstats\n",
            "  Attempting uninstall: lxml\n",
            "    Found existing installation: lxml 4.2.6\n",
            "    Uninstalling lxml-4.2.6:\n",
            "      Successfully uninstalled lxml-4.2.6\n",
            "Successfully installed lxml-4.6.3 quantstats-0.0.43 yfinance-0.1.64\n"
          ]
        }
      ]
    },
    {
      "cell_type": "code",
      "metadata": {
        "id": "Yb73Il9s3pbH"
      },
      "source": [
        "import pandas as pd\n",
        "import zipfile\n",
        "from google.colab.data_table import DataTable\n",
        "from google.colab import files\n",
        "import io\n",
        "import matplotlib.pyplot as plt\n",
        "import quantstats as qs\n",
        "import glob\n",
        "\n"
      ],
      "execution_count": null,
      "outputs": []
    },
    {
      "cell_type": "code",
      "metadata": {
        "id": "Ohr4CHf5GKQD"
      },
      "source": [
        "acoes = ['fb','amd','v','aapl']\n",
        "stock = \"FB\""
      ],
      "execution_count": null,
      "outputs": []
    },
    {
      "cell_type": "code",
      "metadata": {
        "id": "T3Z0iJCDRpUO"
      },
      "source": [
        "data = qs.utils.download_returns(stock)\n",
        "pd1 = pd.DataFrame(qs.stats.monthly_returns(data))\n",
        "pd1 = pd1.T\n",
        "pd1['Mean'] = pd1.mean(axis=1)\n",
        "\n"
      ],
      "execution_count": null,
      "outputs": []
    },
    {
      "cell_type": "code",
      "metadata": {
        "id": "TDDWvNZr7fZO"
      },
      "source": [
        "def extract_data_from(acoes):\n",
        "  for acao in acoes:\n",
        "    data = qs.utils.download_returns(acao)\n",
        "    pd2 = pd.DataFrame(qs.stats.monthly_returns(data))\n",
        "    pd2 = pd2.T\n",
        "    pd2[f'{acao}'.upper()] = pd2.mean(axis=1)\n",
        "    pd2 = pd2[f'{acao}'.upper()]\n",
        "    pd2.to_csv(f'{acao}'+'.csv')"
      ],
      "execution_count": null,
      "outputs": []
    },
    {
      "cell_type": "code",
      "metadata": {
        "id": "RsDAzc-E69BM"
      },
      "source": [
        "extract_data_from(acoes)"
      ],
      "execution_count": null,
      "outputs": []
    },
    {
      "cell_type": "code",
      "metadata": {
        "id": "V8ErC6XCkA_I"
      },
      "source": [
        "def consultar_trade():\n",
        "  s= input(\"insira o mês: \")\n",
        "  path = r'/content' # use your path\n",
        "  all_files = glob.glob(path + \"/*.csv\")\n",
        "\n",
        "  li = []\n",
        "\n",
        "  for filename in all_files:\n",
        "      df = pd.read_csv(filename, index_col=0, header=0)\n",
        "      li.append(df)\n",
        "\n",
        "  frame = pd.concat(li, axis=1, ignore_index=False).T\n",
        "  frame = frame.sort_values(s, ascending=False)\n",
        "  print(frame[s])"
      ],
      "execution_count": null,
      "outputs": []
    },
    {
      "cell_type": "code",
      "metadata": {
        "colab": {
          "base_uri": "https://localhost:8080/"
        },
        "id": "RH9T-8BukKAG",
        "outputId": "669eddec-9cae-4cfd-9352-e7fd1cef375a"
      },
      "source": [
        "consultar_trade()"
      ],
      "execution_count": null,
      "outputs": [
        {
          "output_type": "stream",
          "name": "stdout",
          "text": [
            "insira o mês: NOV\n",
            "AMD     0.082254\n",
            "V       0.029151\n",
            "AAPL    0.024740\n",
            "FB      0.024025\n",
            "Name: NOV, dtype: float64\n"
          ]
        }
      ]
    },
    {
      "cell_type": "code",
      "metadata": {
        "id": "fXzeX4uA7dvX"
      },
      "source": [
        "#media = pd1.mean().sort_values(ascending=False)b"
      ],
      "execution_count": null,
      "outputs": []
    },
    {
      "cell_type": "code",
      "metadata": {
        "id": "9BXbcewrqxtE"
      },
      "source": [
        ""
      ],
      "execution_count": null,
      "outputs": []
    }
  ]
}