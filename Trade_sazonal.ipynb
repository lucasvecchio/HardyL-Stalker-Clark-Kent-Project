{
  "nbformat": 4,
  "nbformat_minor": 0,
  "metadata": {
    "colab": {
      "name": "Trade sazonal.ipynb",
      "provenance": [],
      "authorship_tag": "ABX9TyNHQrVpRYUIkH6y+AJv01TX",
      "include_colab_link": true
    },
    "kernelspec": {
      "name": "python3",
      "display_name": "Python 3"
    },
    "language_info": {
      "name": "python"
    }
  },
  "cells": [
    {
      "cell_type": "markdown",
      "metadata": {
        "id": "view-in-github",
        "colab_type": "text"
      },
      "source": [
        "<a href=\"https://colab.research.google.com/github/lucasvecchio/HardyL-Stalker-Clark-Kent-Project/blob/master/Trade_sazonal.ipynb\" target=\"_parent\"><img src=\"https://colab.research.google.com/assets/colab-badge.svg\" alt=\"Open In Colab\"/></a>"
      ]
    },
    {
      "cell_type": "code",
      "metadata": {
        "colab": {
          "base_uri": "https://localhost:8080/"
        },
        "id": "KUsEPNni6xiI",
        "outputId": "98dddf46-79e4-42ea-ba2c-894a73601448"
      },
      "source": [
        "pip install quantstats"
      ],
      "execution_count": 6,
      "outputs": [
        {
          "output_type": "stream",
          "name": "stdout",
          "text": [
            "Collecting quantstats\n",
            "  Downloading QuantStats-0.0.43.tar.gz (35 kB)\n",
            "Requirement already satisfied: pandas>=0.24.0 in /usr/local/lib/python3.7/dist-packages (from quantstats) (1.1.5)\n",
            "Requirement already satisfied: numpy>=1.16.5 in /usr/local/lib/python3.7/dist-packages (from quantstats) (1.19.5)\n",
            "Requirement already satisfied: seaborn>=0.9.0 in /usr/local/lib/python3.7/dist-packages (from quantstats) (0.11.2)\n",
            "Requirement already satisfied: matplotlib>=3.0.0 in /usr/local/lib/python3.7/dist-packages (from quantstats) (3.2.2)\n",
            "Requirement already satisfied: scipy>=1.2.0 in /usr/local/lib/python3.7/dist-packages (from quantstats) (1.4.1)\n",
            "Requirement already satisfied: tabulate>=0.8.0 in /usr/local/lib/python3.7/dist-packages (from quantstats) (0.8.9)\n",
            "Collecting yfinance>=0.1.63\n",
            "  Downloading yfinance-0.1.64.tar.gz (26 kB)\n",
            "Requirement already satisfied: kiwisolver>=1.0.1 in /usr/local/lib/python3.7/dist-packages (from matplotlib>=3.0.0->quantstats) (1.3.2)\n",
            "Requirement already satisfied: cycler>=0.10 in /usr/local/lib/python3.7/dist-packages (from matplotlib>=3.0.0->quantstats) (0.10.0)\n",
            "Requirement already satisfied: python-dateutil>=2.1 in /usr/local/lib/python3.7/dist-packages (from matplotlib>=3.0.0->quantstats) (2.8.2)\n",
            "Requirement already satisfied: pyparsing!=2.0.4,!=2.1.2,!=2.1.6,>=2.0.1 in /usr/local/lib/python3.7/dist-packages (from matplotlib>=3.0.0->quantstats) (2.4.7)\n",
            "Requirement already satisfied: six in /usr/local/lib/python3.7/dist-packages (from cycler>=0.10->matplotlib>=3.0.0->quantstats) (1.15.0)\n",
            "Requirement already satisfied: pytz>=2017.2 in /usr/local/lib/python3.7/dist-packages (from pandas>=0.24.0->quantstats) (2018.9)\n",
            "Requirement already satisfied: requests>=2.20 in /usr/local/lib/python3.7/dist-packages (from yfinance>=0.1.63->quantstats) (2.23.0)\n",
            "Requirement already satisfied: multitasking>=0.0.7 in /usr/local/lib/python3.7/dist-packages (from yfinance>=0.1.63->quantstats) (0.0.9)\n",
            "Collecting lxml>=4.5.1\n",
            "  Downloading lxml-4.6.3-cp37-cp37m-manylinux2014_x86_64.whl (6.3 MB)\n",
            "\u001b[K     |████████████████████████████████| 6.3 MB 7.2 MB/s \n",
            "\u001b[?25hRequirement already satisfied: idna<3,>=2.5 in /usr/local/lib/python3.7/dist-packages (from requests>=2.20->yfinance>=0.1.63->quantstats) (2.10)\n",
            "Requirement already satisfied: urllib3!=1.25.0,!=1.25.1,<1.26,>=1.21.1 in /usr/local/lib/python3.7/dist-packages (from requests>=2.20->yfinance>=0.1.63->quantstats) (1.24.3)\n",
            "Requirement already satisfied: chardet<4,>=3.0.2 in /usr/local/lib/python3.7/dist-packages (from requests>=2.20->yfinance>=0.1.63->quantstats) (3.0.4)\n",
            "Requirement already satisfied: certifi>=2017.4.17 in /usr/local/lib/python3.7/dist-packages (from requests>=2.20->yfinance>=0.1.63->quantstats) (2021.5.30)\n",
            "Building wheels for collected packages: quantstats, yfinance\n",
            "  Building wheel for quantstats (setup.py) ... \u001b[?25l\u001b[?25hdone\n",
            "  Created wheel for quantstats: filename=QuantStats-0.0.43-py2.py3-none-any.whl size=40128 sha256=d5d98c00e272fe56e811dfec4297915f4354a866b0e5585ecfa10d4bab73262d\n",
            "  Stored in directory: /root/.cache/pip/wheels/c1/fd/d1/02aacfa0b120f1645f69e2115d60d17ea13e0577f6223c98f8\n",
            "  Building wheel for yfinance (setup.py) ... \u001b[?25l\u001b[?25hdone\n",
            "  Created wheel for yfinance: filename=yfinance-0.1.64-py2.py3-none-any.whl size=24109 sha256=55a3880becd4a82d4dc945fa3998cdde9aa63ea28e51332925a08f5864cff9aa\n",
            "  Stored in directory: /root/.cache/pip/wheels/86/fe/9b/a4d3d78796b699e37065e5b6c27b75cff448ddb8b24943c288\n",
            "Successfully built quantstats yfinance\n",
            "Installing collected packages: lxml, yfinance, quantstats\n",
            "  Attempting uninstall: lxml\n",
            "    Found existing installation: lxml 4.2.6\n",
            "    Uninstalling lxml-4.2.6:\n",
            "      Successfully uninstalled lxml-4.2.6\n",
            "Successfully installed lxml-4.6.3 quantstats-0.0.43 yfinance-0.1.64\n"
          ]
        }
      ]
    },
    {
      "cell_type": "code",
      "metadata": {
        "id": "Yb73Il9s3pbH"
      },
      "source": [
        "import pandas as pd\n",
        "import zipfile\n",
        "from google.colab.data_table import DataTable\n",
        "from google.colab import files\n",
        "import io\n",
        "import matplotlib.pyplot as plt\n",
        "import quantstats as qs\n",
        "import glob\n",
        "\n"
      ],
      "execution_count": 78,
      "outputs": []
    },
    {
      "cell_type": "code",
      "metadata": {
        "id": "Ohr4CHf5GKQD"
      },
      "source": [
        "acoes = ['PETR4.SA', 'VALE3.SA', 'ITUB4.SA',\t'BBDC4.SA',\t'BBAS3.SA',\t'ABEV3.SA',\t'PETR3.SA',\n",
        "      'B3SA3.SA',\t'ITSA4.SA',\t'SUZB3.SA',\t'GGBR4.SA',\t'MGLU3.SA',\t'BRFS3.SA',\t'USIM5.SA',\n",
        "      'FIBR3.SA',\t'CIEL3.SA',\t'COGN3.SA',\t'LREN3.SA',\t'RENT3.SA',\t'CMIG4.SA',\t'SANB3.SA',\n",
        "      'BBDC3.SA',\t'SANB11.SA',\t'SANB4.SA',\t'ITUB3.SA',\t'ITSA3.SA',\t'BIDI11.SA',\n",
        "      'BRAP4.SA',\t'AGRO3.SA',\t'CAML3.SA',\t'CMIG3.SA',\t'CPLE6.SA',\n",
        "      'CSAN3.SA',\t'CYRE3.SA',\t'ECOR3.SA',\t'ELET6.SA',\t'EMBR3.SA',\t'ENGI4.SA',\t'ENEV3.SA',\n",
        "      'EGIE3.SA',\t'EQTL3.SA',\t'ETER3.SA',\t'EZTC3.SA',\t'FLRY3.SA',\t'GFSA3.SA',\t'GGBR3.SA',\n",
        "      'GOAU3.SA',\t'GOAU4.SA',\t'GOLL4.SA',\t'HAPV3.SA',\t'KLBN4.SA',\t'KLBN11.SA',\t'LCAM3.SA',\n",
        "      'LAME4.SA',\t'MDIA3.SA',\t'BEEF3.SA',\t'OIBR3.SA',\t'PRIO3.SA',\t'QUAL3.SA',\t'RADL3.SA',\n",
        "      'RAIL3.SA',\t'SAPR4.SA',\t'SAPR11.SA',\t'SULA11.SA',\t'TAEE11.SA',\t'TASA4.SA',\t'VIVT3.SA',\n",
        "      'TEND3.SA',\t'TUPY3.SA',\t'UNIP6.SA',\t'VIIA3.SA',\t'WEGE3.SA',\t'^BVSP',\t'ALUP11.SA',\t'OFSA3.SA',\n",
        "      'ALUP4.SA',\t'FRAS3.SA',\t'CSNA3.SA',\t'UNIP3.SA',\t'TASA3.SA',\t'BRAP3.SA',\t'BBSE3.SA',\t'CPLE3.SA',\t'BRSR3.SA',\t'CVCB3.SA',\t'BRSR6.SA',\t'CESP6.SA',\t'BEES3.SA',\t\n",
        "      'HYPE3.SA',\t'BRDT3.SA',\t'BIDI3.SA',\t'SLCE3.SA',\t'BIDI4.SA',\t'SMTO3.SA',\t'CRPG5.SA',\t'USIM3.SA',\t'GPIV33.SA',\n",
        "      'LAME3.SA',\t'CESP3.SA',\t'AMER3.SA',\t'PINE4.SA',\t'ALUP3.SA',\t'AMAR3.SA',\t'ABCB4.SA',\t'JBSS3.SA',\n",
        "      'TECN3.SA',\t'YDUQ3.SA',\t'STBP3.SA',\t'SBSP3.SA',\t'TELB4.SA',\t'PSSA3.SA',\t'PNVL3.SA',\t'PMAM3.SA',\t'VIVR3.SA',\n",
        "      'HBOR3.SA',\t'BRPR3.SA',\t'MULT3.SA',\t'IGTA3.SA',\t'AALR3.SA',\t'SCAR3.SA',\t'BKBR3.SA',\t'HAGA3.SA',\t'RAPT4.SA',\n",
        "      'MOVI3.SA',\t'VULC3.SA',\t'MTSA4.SA',\t'DTEX3.SA',\t'EUCA4.SA',\t'TRPL4.SA',\t'TAEE4.SA',\t'TAEE3.SA',\n",
        "      'ENGI11.SA',\t'ODPV3.SA',\t'IGBR3.SA',\t'RSID3.SA',\t'GNDI3.SA',\t'FESA4.SA',\t'TRPL3.SA',\t'GUAR3.SA',\t'SAPR3.SA',\t'TRIS3.SA',\t'EVEN3.SA',\t'CCPR3.SA',\t'ANIM3.SA',\t'RNEW4.SA',\t'RNEW11.SA',\n",
        "      'VIVA3.SA', 'ENAT3.SA',\t'BRKM3.SA',\t'CCRO3.SA',\t'ALSO3.SA',\t'ELET3.SA',\n",
        "      'ROMI3.SA','BRML3.SA',\t'AZUL4.SA',\t'ARZZ3.SA',\t'HGTX3.SA',\n",
        "      'ALPA4.SA',\t'ALPA3.SA',\t'WIZS3.SA',\t'KLBN3.SA',\t'TCSA3.SA',\n",
        "      'BOVA11.SA']\n",
        "stock = \"FB\""
      ],
      "execution_count": 131,
      "outputs": []
    },
    {
      "cell_type": "markdown",
      "metadata": {
        "id": "xEbnT77RAbQ4"
      },
      "source": [
        ""
      ]
    },
    {
      "cell_type": "code",
      "metadata": {
        "id": "T3Z0iJCDRpUO"
      },
      "source": [
        "data = qs.utils.download_returns(stock)\n",
        "pd1 = pd.DataFrame(qs.stats.monthly_returns(data))\n",
        "pd1 = pd1.T\n",
        "pd1['Mean'] = pd1.mean(axis=1)\n",
        "\n"
      ],
      "execution_count": 132,
      "outputs": []
    },
    {
      "cell_type": "code",
      "metadata": {
        "id": "TDDWvNZr7fZO"
      },
      "source": [
        "def extract_data_from(acoes):\n",
        "  for acao in acoes:\n",
        "    data = qs.utils.download_returns(acao)\n",
        "    pd2 = pd.DataFrame(qs.stats.monthly_returns(data))\n",
        "    pd2 = pd2.T\n",
        "    pd2[f'{acao}'.upper()] = pd2.mean(axis=1)\n",
        "    pd2 = pd2[f'{acao}'.upper()]\n",
        "    pd2.to_csv(f'{acao}'+'.csv')"
      ],
      "execution_count": 133,
      "outputs": []
    },
    {
      "cell_type": "code",
      "metadata": {
        "id": "RsDAzc-E69BM"
      },
      "source": [
        "extract_data_from(acoes)"
      ],
      "execution_count": 134,
      "outputs": []
    },
    {
      "cell_type": "code",
      "metadata": {
        "id": "V8ErC6XCkA_I"
      },
      "source": [
        "def consultar_trade():\n",
        "  s= input(\"insira o mês: \")\n",
        "  path = r'/content' # use your path\n",
        "  all_files = glob.glob(path + \"/*.csv\")\n",
        "\n",
        "  li = []\n",
        "\n",
        "  for filename in all_files:\n",
        "      df = pd.read_csv(filename, index_col=0, header=0)\n",
        "      li.append(df)\n",
        "\n",
        "  frame = pd.concat(li, axis=1, ignore_index=False).T\n",
        "  frame = frame.sort_values(s, ascending=False)\n",
        "  print(frame[s].head(20))\n",
        "  print(frame[s].tail(20))\n",
        "  "
      ],
      "execution_count": 149,
      "outputs": []
    },
    {
      "cell_type": "code",
      "metadata": {
        "colab": {
          "base_uri": "https://localhost:8080/"
        },
        "id": "RH9T-8BukKAG",
        "outputId": "920ef670-d890-478a-f5cb-78f4cb20f71b"
      },
      "source": [
        "consultar_trade()"
      ],
      "execution_count": 150,
      "outputs": [
        {
          "output_type": "stream",
          "name": "stdout",
          "text": [
            "insira o mês: NOV\n",
            "AZUL4.SA     0.162679\n",
            "RADL3.SA     0.156396\n",
            "BIDI11.SA    0.103264\n",
            "IGBR3.SA     0.101364\n",
            "BIDI3.SA     0.088806\n",
            "AMD          0.082254\n",
            "GFSA3.SA     0.076018\n",
            "BIDI4.SA     0.075304\n",
            "ANIM3.SA     0.074628\n",
            "BRSR3.SA     0.067620\n",
            "CCRO3.SA     0.063315\n",
            "TAEE4.SA     0.061404\n",
            "BBDC3.SA     0.059746\n",
            "CPLE3.SA     0.058141\n",
            "HAPV3.SA     0.055124\n",
            "TASA4.SA     0.054605\n",
            "HGTX3.SA     0.052822\n",
            "^BVSP        0.049313\n",
            "USIM3.SA     0.048805\n",
            "ENEV3.SA     0.048685\n",
            "Name: NOV, dtype: float64\n",
            "TCSA3.SA    -0.011979\n",
            "TELB4.SA    -0.012278\n",
            "BRSR6.SA    -0.013026\n",
            "ELET3.SA    -0.013526\n",
            "B3SA3.SA    -0.014769\n",
            "ENGI4.SA    -0.016189\n",
            "RAIL3.SA    -0.016266\n",
            "HBOR3.SA    -0.016300\n",
            "ENAT3.SA    -0.017726\n",
            "PINE4.SA    -0.019572\n",
            "ALUP3.SA    -0.019636\n",
            "SANB4.SA    -0.019708\n",
            "HAGA3.SA    -0.022817\n",
            "AMAR3.SA    -0.031502\n",
            "SLCE3.SA    -0.044424\n",
            "RNEW11.SA   -0.047669\n",
            "WIZS3.SA    -0.051065\n",
            "ELET6.SA    -0.053019\n",
            "MGLU3.SA    -0.058757\n",
            "VIVR3.SA    -0.077958\n",
            "Name: NOV, dtype: float64\n"
          ]
        }
      ]
    },
    {
      "cell_type": "code",
      "metadata": {
        "id": "fXzeX4uA7dvX"
      },
      "source": [
        "#media = pd1.mean().sort_values(ascending=False)b"
      ],
      "execution_count": 151,
      "outputs": []
    },
    {
      "cell_type": "code",
      "metadata": {
        "colab": {
          "base_uri": "https://localhost:8080/",
          "height": 188
        },
        "id": "9BXbcewrqxtE",
        "outputId": "186d0250-37c6-4efa-aeb1-94f38742e688"
      },
      "source": [
        "DataTable(frame)"
      ],
      "execution_count": 139,
      "outputs": [
        {
          "output_type": "execute_result",
          "data": {
            "application/vnd.google.colaboratory.module+javascript": "\n      import \"https://ssl.gstatic.com/colaboratory/data_table/a6224c040fa35dcf/data_table.js\";\n\n      window.createDataTable({\n        data: [[\"Maapl\",\n{\n            'v': 0.040568448388977066,\n            'f': \"0.040568448388977066\",\n        },\n{\n            'v': 0.018459039481828237,\n            'f': \"0.018459039481828237\",\n        },\n{\n            'v': 0.02399911453216494,\n            'f': \"0.02399911453216494\",\n        },\n{\n            'v': 0.04114319421829237,\n            'f': \"0.04114319421829237\",\n        },\n{\n            'v': 0.02220937407569528,\n            'f': \"0.02220937407569528\",\n        },\n{\n            'v': -0.02255642946242972,\n            'f': \"-0.02255642946242972\",\n        },\n{\n            'v': 0.026966335176891672,\n            'f': \"0.026966335176891672\",\n        },\n{\n            'v': 0.056415617651109314,\n            'f': \"0.056415617651109314\",\n        },\n{\n            'v': -0.03929242733715131,\n            'f': \"-0.03929242733715131\",\n        },\n{\n            'v': 0.06263832851674618,\n            'f': \"0.06263832851674618\",\n        },\n{\n            'v': 0.0247397678367868,\n            'f': \"0.0247397678367868\",\n        },\n{\n            'v': 0.02011435031946086,\n            'f': \"0.02011435031946086\",\n        },\n{\n            'v': 0.274862980801624,\n            'f': \"0.274862980801624\",\n        }],\n [\"Mv\",\n{\n            'v': -0.005728266071437711,\n            'f': \"-0.005728266071437711\",\n        },\n{\n            'v': 0.047686000239663566,\n            'f': \"0.047686000239663566\",\n        },\n{\n            'v': 0.010115122626152526,\n            'f': \"0.010115122626152526\",\n        },\n{\n            'v': 0.06453772574791722,\n            'f': \"0.06453772574791722\",\n        },\n{\n            'v': 0.012689566671048948,\n            'f': \"0.012689566671048948\",\n        },\n{\n            'v': -0.0024341163856640737,\n            'f': \"-0.0024341163856640737\",\n        },\n{\n            'v': 0.024946689960270517,\n            'f': \"0.024946689960270517\",\n        },\n{\n            'v': 0.0184245065946191,\n            'f': \"0.0184245065946191\",\n        },\n{\n            'v': -0.008288625981054574,\n            'f': \"-0.008288625981054574\",\n        },\n{\n            'v': 0.028862860000233886,\n            'f': \"0.028862860000233886\",\n        },\n{\n            'v': 0.029151211871247557,\n            'f': \"0.029151211871247557\",\n        },\n{\n            'v': 0.013766393501958614,\n            'f': \"0.013766393501958614\",\n        },\n{\n            'v': 0.25073250931379365,\n            'f': \"0.25073250931379365\",\n        }],\n [\"Mfb\",\n{\n            'v': 0.07466403844820732,\n            'f': \"0.07466403844820732\",\n        },\n{\n            'v': -0.011983678824373234,\n            'f': \"-0.011983678824373234\",\n        },\n{\n            'v': -0.008657327586330265,\n            'f': \"-0.008657327586330265\",\n        },\n{\n            'v': 0.06918957673941369,\n            'f': \"0.06918957673941369\",\n        },\n{\n            'v': -0.012274919136756523,\n            'f': \"-0.012274919136756523\",\n        },\n{\n            'v': 0.034455459367360566,\n            'f': \"0.034455459367360566\",\n        },\n{\n            'v': 0.0594779911319772,\n            'f': \"0.0594779911319772\",\n        },\n{\n            'v': 0.01634869568774915,\n            'f': \"0.01634869568774915\",\n        },\n{\n            'v': 0.017098789093153953,\n            'f': \"0.017098789093153953\",\n        },\n{\n            'v': 0.013776809962885828,\n            'f': \"0.013776809962885828\",\n        },\n{\n            'v': 0.0240246112480468,\n            'f': \"0.0240246112480468\",\n        },\n{\n            'v': 0.00253012208661203,\n            'f': \"0.00253012208661203\",\n        },\n{\n            'v': 0.2815263174186832,\n            'f': \"0.2815263174186832\",\n        }],\n [\"Mamd\",\n{\n            'v': 0.06648679463851895,\n            'f': \"0.06648679463851895\",\n        },\n{\n            'v': 0.03331984274683723,\n            'f': \"0.03331984274683723\",\n        },\n{\n            'v': 0.052776175873854886,\n            'f': \"0.052776175873854886\",\n        },\n{\n            'v': 0.052839642579211914,\n            'f': \"0.052839642579211914\",\n        },\n{\n            'v': 0.03249382488767133,\n            'f': \"0.03249382488767133\",\n        },\n{\n            'v': -0.04533052572944682,\n            'f': \"-0.04533052572944682\",\n        },\n{\n            'v': -0.02954192033750106,\n            'f': \"-0.02954192033750106\",\n        },\n{\n            'v': 0.06550997275475719,\n            'f': \"0.06550997275475719\",\n        },\n{\n            'v': -0.0406403780237427,\n            'f': \"-0.0406403780237427\",\n        },\n{\n            'v': -0.011216978290526043,\n            'f': \"-0.011216978290526043\",\n        },\n{\n            'v': 0.08225421514207898,\n            'f': \"0.08225421514207898\",\n        },\n{\n            'v': 0.014334869107181309,\n            'f': \"0.014334869107181309\",\n        },\n{\n            'v': 0.2618816968702728,\n            'f': \"0.2618816968702728\",\n        }]],\n        columns: [[\"string\", \"index\"], [\"number\", \"JAN\"], [\"number\", \"FEB\"], [\"number\", \"MAR\"], [\"number\", \"APR\"], [\"number\", \"MAY\"], [\"number\", \"JUN\"], [\"number\", \"JUL\"], [\"number\", \"AUG\"], [\"number\", \"SEP\"], [\"number\", \"OCT\"], [\"number\", \"NOV\"], [\"number\", \"DEC\"], [\"number\", \"EOY\"]],\n        columnOptions: [{\"width\": \"1px\", \"className\": \"index_column\"}],\n        rowsPerPage: 25,\n        helpUrl: \"https://colab.research.google.com/notebooks/data_table.ipynb\",\n        suppressOutputScrolling: true,\n        minimumWidth: undefined,\n      });\n    ",
            "text/plain": [
              "<google.colab.data_table.DataTable object>"
            ],
            "text/html": [
              "<div>\n",
              "<style scoped>\n",
              "    .dataframe tbody tr th:only-of-type {\n",
              "        vertical-align: middle;\n",
              "    }\n",
              "\n",
              "    .dataframe tbody tr th {\n",
              "        vertical-align: top;\n",
              "    }\n",
              "\n",
              "    .dataframe thead th {\n",
              "        text-align: right;\n",
              "    }\n",
              "</style>\n",
              "<table border=\"1\" class=\"dataframe\">\n",
              "  <thead>\n",
              "    <tr style=\"text-align: right;\">\n",
              "      <th></th>\n",
              "      <th>JAN</th>\n",
              "      <th>FEB</th>\n",
              "      <th>MAR</th>\n",
              "      <th>APR</th>\n",
              "      <th>MAY</th>\n",
              "      <th>JUN</th>\n",
              "      <th>JUL</th>\n",
              "      <th>AUG</th>\n",
              "      <th>SEP</th>\n",
              "      <th>OCT</th>\n",
              "      <th>NOV</th>\n",
              "      <th>DEC</th>\n",
              "      <th>EOY</th>\n",
              "    </tr>\n",
              "  </thead>\n",
              "  <tbody>\n",
              "    <tr>\n",
              "      <th>Maapl</th>\n",
              "      <td>0.040568</td>\n",
              "      <td>0.018459</td>\n",
              "      <td>0.023999</td>\n",
              "      <td>0.041143</td>\n",
              "      <td>0.022209</td>\n",
              "      <td>-0.022556</td>\n",
              "      <td>0.026966</td>\n",
              "      <td>0.056416</td>\n",
              "      <td>-0.039292</td>\n",
              "      <td>0.062638</td>\n",
              "      <td>0.024740</td>\n",
              "      <td>0.020114</td>\n",
              "      <td>0.274863</td>\n",
              "    </tr>\n",
              "    <tr>\n",
              "      <th>Mv</th>\n",
              "      <td>-0.005728</td>\n",
              "      <td>0.047686</td>\n",
              "      <td>0.010115</td>\n",
              "      <td>0.064538</td>\n",
              "      <td>0.012690</td>\n",
              "      <td>-0.002434</td>\n",
              "      <td>0.024947</td>\n",
              "      <td>0.018425</td>\n",
              "      <td>-0.008289</td>\n",
              "      <td>0.028863</td>\n",
              "      <td>0.029151</td>\n",
              "      <td>0.013766</td>\n",
              "      <td>0.250733</td>\n",
              "    </tr>\n",
              "    <tr>\n",
              "      <th>Mfb</th>\n",
              "      <td>0.074664</td>\n",
              "      <td>-0.011984</td>\n",
              "      <td>-0.008657</td>\n",
              "      <td>0.069190</td>\n",
              "      <td>-0.012275</td>\n",
              "      <td>0.034455</td>\n",
              "      <td>0.059478</td>\n",
              "      <td>0.016349</td>\n",
              "      <td>0.017099</td>\n",
              "      <td>0.013777</td>\n",
              "      <td>0.024025</td>\n",
              "      <td>0.002530</td>\n",
              "      <td>0.281526</td>\n",
              "    </tr>\n",
              "    <tr>\n",
              "      <th>Mamd</th>\n",
              "      <td>0.066487</td>\n",
              "      <td>0.033320</td>\n",
              "      <td>0.052776</td>\n",
              "      <td>0.052840</td>\n",
              "      <td>0.032494</td>\n",
              "      <td>-0.045331</td>\n",
              "      <td>-0.029542</td>\n",
              "      <td>0.065510</td>\n",
              "      <td>-0.040640</td>\n",
              "      <td>-0.011217</td>\n",
              "      <td>0.082254</td>\n",
              "      <td>0.014335</td>\n",
              "      <td>0.261882</td>\n",
              "    </tr>\n",
              "  </tbody>\n",
              "</table>\n",
              "</div>"
            ]
          },
          "metadata": {},
          "execution_count": 139
        }
      ]
    },
    {
      "cell_type": "code",
      "metadata": {
        "id": "IM7i7N0XH_Ej"
      },
      "source": [
        ""
      ],
      "execution_count": null,
      "outputs": []
    }
  ]
}