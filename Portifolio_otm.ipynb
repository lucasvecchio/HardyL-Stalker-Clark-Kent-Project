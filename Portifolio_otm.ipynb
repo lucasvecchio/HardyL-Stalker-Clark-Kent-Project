{
  "nbformat": 4,
  "nbformat_minor": 0,
  "metadata": {
    "colab": {
      "name": "Portifolio otm.ipynb",
      "provenance": [],
      "authorship_tag": "ABX9TyN8MgkeqL/2u3n6dD5eeryh",
      "include_colab_link": true
    },
    "kernelspec": {
      "name": "python3",
      "display_name": "Python 3"
    },
    "language_info": {
      "name": "python"
    }
  },
  "cells": [
    {
      "cell_type": "markdown",
      "metadata": {
        "id": "view-in-github",
        "colab_type": "text"
      },
      "source": [
        "<a href=\"https://colab.research.google.com/github/lucasvecchio/HardyL-Stalker-Clark-Kent-Project/blob/master/Portifolio_otm.ipynb\" target=\"_parent\"><img src=\"https://colab.research.google.com/assets/colab-badge.svg\" alt=\"Open In Colab\"/></a>"
      ]
    },
    {
      "cell_type": "code",
      "metadata": {
        "colab": {
          "base_uri": "https://localhost:8080/"
        },
        "id": "rV19ehu8xN_H",
        "outputId": "25ab1d9e-5799-4400-9295-077f96abbe74"
      },
      "source": [
        "pip install yfinance"
      ],
      "execution_count": 3,
      "outputs": [
        {
          "output_type": "stream",
          "name": "stdout",
          "text": [
            "Collecting yfinance\n",
            "  Downloading yfinance-0.1.64.tar.gz (26 kB)\n",
            "Requirement already satisfied: pandas>=0.24 in /usr/local/lib/python3.7/dist-packages (from yfinance) (1.1.5)\n",
            "Requirement already satisfied: numpy>=1.15 in /usr/local/lib/python3.7/dist-packages (from yfinance) (1.19.5)\n",
            "Requirement already satisfied: requests>=2.20 in /usr/local/lib/python3.7/dist-packages (from yfinance) (2.23.0)\n",
            "Requirement already satisfied: multitasking>=0.0.7 in /usr/local/lib/python3.7/dist-packages (from yfinance) (0.0.9)\n",
            "Collecting lxml>=4.5.1\n",
            "  Downloading lxml-4.6.3-cp37-cp37m-manylinux2014_x86_64.whl (6.3 MB)\n",
            "\u001b[K     |████████████████████████████████| 6.3 MB 7.4 MB/s \n",
            "\u001b[?25hRequirement already satisfied: python-dateutil>=2.7.3 in /usr/local/lib/python3.7/dist-packages (from pandas>=0.24->yfinance) (2.8.2)\n",
            "Requirement already satisfied: pytz>=2017.2 in /usr/local/lib/python3.7/dist-packages (from pandas>=0.24->yfinance) (2018.9)\n",
            "Requirement already satisfied: six>=1.5 in /usr/local/lib/python3.7/dist-packages (from python-dateutil>=2.7.3->pandas>=0.24->yfinance) (1.15.0)\n",
            "Requirement already satisfied: chardet<4,>=3.0.2 in /usr/local/lib/python3.7/dist-packages (from requests>=2.20->yfinance) (3.0.4)\n",
            "Requirement already satisfied: certifi>=2017.4.17 in /usr/local/lib/python3.7/dist-packages (from requests>=2.20->yfinance) (2021.5.30)\n",
            "Requirement already satisfied: urllib3!=1.25.0,!=1.25.1,<1.26,>=1.21.1 in /usr/local/lib/python3.7/dist-packages (from requests>=2.20->yfinance) (1.24.3)\n",
            "Requirement already satisfied: idna<3,>=2.5 in /usr/local/lib/python3.7/dist-packages (from requests>=2.20->yfinance) (2.10)\n",
            "Building wheels for collected packages: yfinance\n",
            "  Building wheel for yfinance (setup.py) ... \u001b[?25l\u001b[?25hdone\n",
            "  Created wheel for yfinance: filename=yfinance-0.1.64-py2.py3-none-any.whl size=24109 sha256=10a642e35b14dd7c7c2aebeacb5313013c57cd13e92a396d4eda12e55c436e51\n",
            "  Stored in directory: /root/.cache/pip/wheels/86/fe/9b/a4d3d78796b699e37065e5b6c27b75cff448ddb8b24943c288\n",
            "Successfully built yfinance\n",
            "Installing collected packages: lxml, yfinance\n",
            "  Attempting uninstall: lxml\n",
            "    Found existing installation: lxml 4.2.6\n",
            "    Uninstalling lxml-4.2.6:\n",
            "      Successfully uninstalled lxml-4.2.6\n",
            "Successfully installed lxml-4.6.3 yfinance-0.1.64\n"
          ]
        }
      ]
    },
    {
      "cell_type": "code",
      "metadata": {
        "colab": {
          "base_uri": "https://localhost:8080/"
        },
        "id": "IVEJBAepxMh5",
        "outputId": "a08ac50f-e830-4890-d0ce-acbf1ed42c0e"
      },
      "source": [
        "import pandas as pd\n",
        "import numpy as np\n",
        "from datetime import datetime\n",
        "import matplotlib.pyplot as plt\n",
        "import yfinance as yf  \n",
        "from pypfopt.efficient_frontier import EfficientFrontier\n",
        "from pypfopt import risk_models\n",
        "from pypfopt import expected_returns\n",
        "from pypfopt import plotting\n",
        "\n",
        "today = datetime.today().strftime('%Y-%m-%d')\n",
        "assets = [i for i in input(\"escreva as ações separadas por vírgula: \").split(\",\")]\n",
        "tipo = input(\"escolha: 1 - Max sharpe 2 - Min vol: \")\n",
        "min_w = input(\"% mínima por ativo escolhido: \")\n",
        "max_w = input(\"% máxima por ativo escolhido: \")\n",
        "TLR = 0.02\n",
        "\n",
        "\n",
        "len_assets = len(assets)\n",
        "w1= 1/len_assets\n",
        "weights = [w1]*len_assets\n",
        "print(weights)\n",
        "# Create a dataframe to store the adjusted close price of the stocks\n",
        "df = pd.DataFrame()\n",
        "\n",
        "# Store the adjusted close price of the sock into the df\n",
        "for stock in assets:\n",
        "  df1 = yf.download(assets,'2020-01-01')\n",
        "  \n",
        "df = df1['Adj Close']\n",
        "\n",
        "\n",
        "returns = df.pct_change()\n",
        "cov_matrix_annual = returns.cov()*252\n",
        "port_variance = np.dot(weights,np.dot(cov_matrix_annual,weights))\n",
        "port_volatility = np.sqrt(port_variance)\n",
        "portfolio_simple_annual_return = np.sum(returns.mean()*weights)*252\n",
        "\n",
        "# Sow the expected annual return, volatility (risk), and variance\n",
        "percent_var = str(round(port_variance,2)*100)+'%'\n",
        "percent_vola = str(round(port_volatility,2)*100)+'%'\n",
        "percent_ret = str(round(portfolio_simple_annual_return,2)*100)+'%'\n",
        "\n",
        "print(\"Dados Originais:\")\n",
        "print('Retorno anual esperado: '+percent_ret)\n",
        "print('Risco/Vol anual: '+percent_vola)\n",
        "print('Variancia anual: '+percent_var)\n",
        "print(\"----------------------------------------------------\")\n",
        "\n",
        "\n",
        "#if(tipo==\"1\"):\n",
        "# Portfolio Optimization\n",
        "\n",
        "# Calculate the expected returns and the annualized sample covariance matrix of asset returns\n",
        "mu = expected_returns.mean_historical_return(df)\n",
        "S = risk_models.sample_cov(df)\n",
        "\n",
        "\n",
        "#for w in range(0,len_assets):\n",
        "   # w = \"w\"+str([w])+\"+\"\n",
        "\n",
        "if tipo == \"1\":\n",
        "    # Optimize for maximum sharpe ratio\n",
        "    ef = EfficientFrontier(mu,S,weight_bounds=(min_w,max_w))\n",
        "    #ef.add_constraint(lambda w: w[0]+w[1]+w[2]+w[3] == 1)\n",
        "    weights = ef.max_sharpe(risk_free_rate=TLR)\n",
        "    cleaned_weights = ef.clean_weights() \n",
        "    print(cleaned_weights)\n",
        "    ef.portfolio_performance(verbose=True)\n",
        "    \n",
        "    # Get the discrete allocation of each share per stock\n",
        "    import cvxpy\n",
        "    from pypfopt.discrete_allocation import DiscreteAllocation, get_latest_prices\n",
        "    \n",
        "    latest_prices = get_latest_prices(df)\n",
        "    weights = cleaned_weights\n",
        "    da = DiscreteAllocation(weights,latest_prices,total_portfolio_value = 6000)\n",
        "    allocation,leftover = da.lp_portfolio()\n",
        "    print(\"Dados Otimizados:\")\n",
        "    print('Discrete allocation: ',allocation)\n",
        "    print('Funds remaining: ${:.2f}'.format(leftover))\n",
        "    \n",
        "else:\n",
        "       # Optimize for maximum sharpe ratio\n",
        "    ef = EfficientFrontier(mu,S,weight_bounds=(min_w,max_w))\n",
        "    #ef.add_constraint(lambda w: w[0]+w[1]+w[2]+w[3] == 1)\n",
        "    weights = ef.min_volatility()\n",
        "    cleaned_weights = ef.clean_weights() \n",
        "    print(cleaned_weights)\n",
        "    ef.portfolio_performance(verbose=True)\n",
        "    \n",
        "    # Get the discrete allocation of each share per stock\n",
        "    import cvxpy\n",
        "    from pypfopt.discrete_allocation import DiscreteAllocation, get_latest_prices\n",
        "    \n",
        "    latest_prices = get_latest_prices(df)\n",
        "    weights = cleaned_weights\n",
        "    da = DiscreteAllocation(weights,latest_prices,total_portfolio_value = 6400)\n",
        "    allocation,leftover = da.lp_portfolio()\n",
        "    print('Discrete allocation: ',allocation)\n",
        "    print('Funds remaining: ${:.2f}'.format(leftover)) "
      ],
      "execution_count": 10,
      "outputs": [
        {
          "output_type": "stream",
          "name": "stdout",
          "text": [
            "escreva as ações separadas por vírgula: aes,vug,bhp,sony,amd,qyld,mos,intc,v,mnst,aapl\n",
            "escolha: 1 - Max sharpe 2 - Min vol: 1\n",
            "% mínima por ativo escolhido: 0.02\n",
            "% máxima por ativo escolhido: 0.3\n",
            "[0.09090909090909091, 0.09090909090909091, 0.09090909090909091, 0.09090909090909091, 0.09090909090909091, 0.09090909090909091, 0.09090909090909091, 0.09090909090909091, 0.09090909090909091, 0.09090909090909091, 0.09090909090909091]\n",
            "[*********************100%***********************]  11 of 11 completed\n",
            "[*********************100%***********************]  11 of 11 completed\n",
            "[*********************100%***********************]  11 of 11 completed\n",
            "[*********************100%***********************]  11 of 11 completed\n",
            "[*********************100%***********************]  11 of 11 completed\n",
            "[*********************100%***********************]  11 of 11 completed\n",
            "[*********************100%***********************]  11 of 11 completed\n",
            "[*********************100%***********************]  11 of 11 completed\n",
            "[*********************100%***********************]  11 of 11 completed\n",
            "[*********************100%***********************]  11 of 11 completed\n",
            "[*********************100%***********************]  11 of 11 completed\n",
            "Dados Originais:\n",
            "Retorno anual esperado: 30.0%\n",
            "Risco/Vol anual: 30.0%\n",
            "Variancia anual: 9.0%\n",
            "----------------------------------------------------\n",
            "OrderedDict([('AAPL', 0.3), ('AES', 0.02), ('AMD', 0.3), ('BHP', 0.02), ('INTC', 0.02), ('MNST', 0.02), ('MOS', 0.10017), ('QYLD', 0.02), ('SONY', 0.15983), ('V', 0.02), ('VUG', 0.02)])\n",
            "Expected annual return: 44.3%\n",
            "Annual volatility: 33.9%\n",
            "Sharpe Ratio: 1.25\n",
            "Dados Otimizados:\n",
            "Discrete allocation:  {'AAPL': 12, 'AES': 4, 'AMD': 15, 'BHP': 2, 'INTC': 2, 'MNST': 2, 'MOS': 14, 'QYLD': 5, 'SONY': 9, 'V': 1}\n",
            "Funds remaining: $14.90\n"
          ]
        }
      ]
    },
    {
      "cell_type": "code",
      "metadata": {
        "id": "U6vwl40PxYTv"
      },
      "source": [
        ""
      ],
      "execution_count": null,
      "outputs": []
    }
  ]
}